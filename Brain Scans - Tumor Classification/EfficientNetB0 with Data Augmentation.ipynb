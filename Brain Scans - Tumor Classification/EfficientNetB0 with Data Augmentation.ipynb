{
  "nbformat": 4,
  "nbformat_minor": 0,
  "metadata": {
    "colab": {
      "provenance": [],
      "toc_visible": true
    },
    "kernelspec": {
      "name": "python3",
      "display_name": "Python 3"
    },
    "language_info": {
      "name": "python"
    },
    "gpuClass": "standard"
  },
  "cells": [
    {
      "cell_type": "markdown",
      "source": [
        "# Libraries."
      ],
      "metadata": {
        "id": "J1JdkXrwlxx1"
      }
    },
    {
      "cell_type": "code",
      "execution_count": 2,
      "metadata": {
        "id": "DhNNURqQXrne"
      },
      "outputs": [],
      "source": [
        "# Essentials\n",
        "import os\n",
        "import pandas as pd\n",
        "import numpy as np\n",
        "\n",
        "# Visualisations\n",
        "import seaborn as sns\n",
        "import matplotlib.pyplot as plt\n",
        "\n",
        "# Pre-trained models.\n",
        "from tensorflow.keras.applications import EfficientNetB0, InceptionV3\n",
        "\n",
        "# Data augmentation.\n",
        "from tensorflow.keras.preprocessing.image import ImageDataGenerator\n",
        "\n",
        "# Keras necessities.\n",
        "from keras.callbacks import EarlyStopping, ReduceLROnPlateau, TensorBoard, ModelCheckpoint\n",
        "from keras.layers import BatchNormalization, Conv2D, Dense, Dropout, GlobalAveragePooling2D, Flatten, Input, MaxPooling2D\n",
        "from keras.models import Model\n",
        "from keras.utils import to_categorical\n",
        "\n",
        "# Metrics.\n",
        "from sklearn.metrics import confusion_matrix, ConfusionMatrixDisplay, classification_report"
      ]
    },
    {
      "cell_type": "code",
      "source": [
        "from google.colab import drive\n",
        "drive.mount('/content/drive')"
      ],
      "metadata": {
        "colab": {
          "base_uri": "https://localhost:8080/"
        },
        "id": "5vmOdP5QXxpZ",
        "outputId": "ff89c37a-9a3e-4f22-ebeb-d8ff76a37916"
      },
      "execution_count": 3,
      "outputs": [
        {
          "output_type": "stream",
          "name": "stdout",
          "text": [
            "Drive already mounted at /content/drive; to attempt to forcibly remount, call drive.mount(\"/content/drive\", force_remount=True).\n"
          ]
        }
      ]
    },
    {
      "cell_type": "markdown",
      "source": [
        "# Tumor Class Object."
      ],
      "metadata": {
        "id": "qETCmmpGl2ZM"
      }
    },
    {
      "cell_type": "code",
      "source": [
        "class TumorClassification():\n",
        "\n",
        "\n",
        "  # Data Augmentation.\n",
        "  def dataGeneration(self, generator, target_size, batch_size, shuffle):\n",
        "\n",
        "    # Training.\n",
        "    train = generator.flow_from_directory(\n",
        "        '/content/drive/MyDrive/Kaggle Competitions/Brain Tumor Classification/archive.zip (Unzipped Files)/Training/',\n",
        "        target_size = target_size,\n",
        "        batch_size = batch_size,\n",
        "        subset = 'training',\n",
        "        class_mode = 'categorical',\n",
        "        shuffle = shuffle\n",
        "        )\n",
        "    print('Train shape: {}\\n'.format(train.image_shape))\n",
        "\n",
        "\n",
        "    # Validation based off training set.\n",
        "    validation = generator.flow_from_directory(\n",
        "        '/content/drive/MyDrive/Kaggle Competitions/Brain Tumor Classification/archive.zip (Unzipped Files)/Training/',\n",
        "        target_size = target_size,\n",
        "        batch_size = batch_size,\n",
        "        subset = 'validation'\n",
        "        )\n",
        "    print('Validation shape: {}\\n'.format(validation.image_shape))\n",
        "\n",
        "\n",
        "    # Test set from folder.\n",
        "    test = generator.flow_from_directory(\n",
        "        '/content/drive/MyDrive/Kaggle Competitions/Brain Tumor Classification/archive.zip (Unzipped Files)/Testing/',\n",
        "        target_size = target_size,\n",
        "        batch_size = batch_size,\n",
        "        shuffle = False\n",
        "        )\n",
        "    print('Test shape: {}\\n'.format(test.image_shape))\n",
        "\n",
        "    return train, validation, test\n",
        "\n",
        "\n",
        "\n",
        "\n",
        "  # Pre-trained model.\n",
        "  def knowledgeTransferModel(self, pre_model, include_top, input_shape):\n",
        "\n",
        "    # EfficientNetB0 - Base layer.\n",
        "    if pre_model == 'Efficient':\n",
        "      EffNetB0 = EfficientNetB0(weights = 'imagenet', include_top = include_top, input_shape = input_shape)\n",
        "\n",
        "      return EffNetB0\n",
        "\n",
        "    # InceptionV3.\n",
        "    elif pre_model == 'Inception':\n",
        "      IncepV3 = InceptionV3(weights = 'imagenet', include_top = include_top, input_shape = input_shape)\n",
        "\n",
        "      return IncepV3\n",
        "\n",
        "\n",
        "\n",
        "\n",
        "  # Building the model.\n",
        "  def buildModel(self, pre_model, pool, dropout, optimizer, loss, layers):\n",
        "\n",
        "    model = pre_model.output\n",
        "\n",
        "    # Choice of pooling layer.\n",
        "    if pool == 'global': \n",
        "      model = GlobalAveragePooling2D()(model)\n",
        "\n",
        "    else:\n",
        "      model = MaxPooling2D()(model)\n",
        "\n",
        "    # Dropout layer to prevent overfitting.\n",
        "    model = Dropout(rate = dropout)(model)\n",
        "\n",
        "    # Additional dense layers, if required.\n",
        "    if layers[0] > 1:\n",
        "      for i in range(layers[0]):\n",
        "        model = Dense(layers[1], activation = 'relu')(model)\n",
        "\n",
        "    # Output layer.\n",
        "    model = Dense(4, activation = 'softmax')(model)\n",
        "    model = Model(inputs = EffNetB0.input, outputs = model)\n",
        "\n",
        "    # Choice of loss function, and optimizers.\n",
        "    if loss == 'categorical':\n",
        "      model.compile(optimizer = optimizer, loss = 'categorical_crossentropy', metrics = ['accuracy'])\n",
        "\n",
        "    elif loss == 'sparse':\n",
        "      model.compile(optimizer = optimizer, loss = 'sparse_categorical_crossentropy', metrics = ['accuracy'])\n",
        "\n",
        "    return model\n",
        "\n",
        "\n",
        "\n",
        "\n",
        "  # Defining callbacks.\n",
        "  def callBacks(self, monitor, factor, patience, min_lr):\n",
        "\n",
        "    tensorboard = TensorBoard(log_dir = '/content/drive/MyDrive/Kaggle Competitions/Brain Tumor Classification/archive.zip (Unzipped Files)')\n",
        "\n",
        "    checkpoint = ModelCheckpoint('effnet.h5', monitor = monitor, save_best_only = True, mode = 'auto', verbose = 1)\n",
        "\n",
        "    lr_reduction = ReduceLROnPlateau(monitor = monitor,\n",
        "                                     factor = factor,\n",
        "                                     patience = patience,\n",
        "                                     min_lr = min_lr,\n",
        "                                     mode = 'auto', verbose = 1)\n",
        "\n",
        "    return tensorboard, checkpoint, lr_reduction\n",
        "\n",
        "\n",
        "\n",
        "\n",
        "  # Visualising the model's performance during training.\n",
        "  def historyPlots(self, history, metric):\n",
        "\n",
        "    # Choice of metric to plot.\n",
        "    if metric == 'accuracy':\n",
        "      plt.plot(history.history['accuracy'], label = 'accuracy')\n",
        "      plt.plot(history.history['val_accuracy'], label = 'val_accuracy')\n",
        "      plt.legend(loc = 'best')\n",
        "      plt.xlabel('Epochs')\n",
        "      plt.title('Training')\n",
        "      plt.show()\n",
        "\n",
        "    elif metric == 'loss':\n",
        "      plt.plot(history.history['loss'], label = 'loss')\n",
        "      plt.plot(history.history['val_loss'], label = 'val_loss')\n",
        "      plt.legend(loc = 'best')\n",
        "      plt.xlabel('Epochs')\n",
        "      plt.title('Training')\n",
        "      plt.show()\n",
        "\n",
        "\n",
        "\n",
        "\n",
        "  # Plotting the confusion matrix.\n",
        "  def confusionMatrix(self, X):\n",
        "\n",
        "    pred = model.predict(X)\n",
        "    classes = np.argmax(pred, axis = 1)\n",
        "    \n",
        "    cmd = ConfusionMatrixDisplay(confusion_matrix(X.classes, classes), display_labels = ['None', 'Glioma', 'Meningioma', 'Pituitary'])\n",
        "    cmd.plot()"
      ],
      "metadata": {
        "id": "VVfKOtQLXtK_"
      },
      "execution_count": 12,
      "outputs": []
    },
    {
      "cell_type": "code",
      "source": [
        "# Data Augmentation.\n",
        "imgGen = ImageDataGenerator(\n",
        "    rotation_range = 10, \n",
        "    width_shift_range = 0.2, \n",
        "    height_shift_range = 0.2,\n",
        "    shear_range = 0.2,\n",
        "    zoom_range = 0.2,\n",
        "    horizontal_flip = True,\n",
        "    vertical_flip = True,\n",
        "    validation_split = 0.1\n",
        "    )"
      ],
      "metadata": {
        "id": "DIVVkFGpap5o"
      },
      "execution_count": 5,
      "outputs": []
    },
    {
      "cell_type": "code",
      "source": [
        "# Important Variables\n",
        "batch_size = 32\n",
        "input_shape = (250, 250, 3)\n",
        "target_size = (250, 250)\n",
        "\n",
        "# Initialising the class object.\n",
        "tc = TumorClassification()\n",
        "\n",
        "# Retrieving the data sets.\n",
        "train, validation, test = tc.dataGeneration(imgGen, target_size, batch_size, True)\n",
        "\n",
        "\n",
        "# Defining the pre-model.\n",
        "EffNetB0 = tc.knowledgeTransferModel('Efficient', include_top = False, input_shape = input_shape)\n",
        "\n",
        "# Building the model.\n",
        "model = tc.buildModel(pre_model = EffNetB0, pool = 'global', dropout = 0.5, optimizer = 'adam', loss = 'categorical', layers = [0, 0])\n",
        "\n",
        "# Callbacks.\n",
        "tensorboard, checkpoint, lr_reduction = tc.callBacks(monitor = 'val_accuracy', factor = 0.5, patience = 3, min_lr = 0.0001)"
      ],
      "metadata": {
        "colab": {
          "base_uri": "https://localhost:8080/"
        },
        "id": "KfC-8CR3aKSH",
        "outputId": "4f18ee06-4102-4970-8b25-38411fe56427"
      },
      "execution_count": 13,
      "outputs": [
        {
          "output_type": "stream",
          "name": "stdout",
          "text": [
            "Found 2585 images belonging to 4 classes.\n",
            "Train shape: (250, 250, 3)\n",
            "\n",
            "Found 285 images belonging to 4 classes.\n",
            "Validation shape: (250, 250, 3)\n",
            "\n",
            "Found 394 images belonging to 4 classes.\n",
            "Test shape: (250, 250, 3)\n",
            "\n"
          ]
        }
      ]
    },
    {
      "cell_type": "markdown",
      "source": [
        "# Convolution Model."
      ],
      "metadata": {
        "id": "2rg-sGCzuNDp"
      }
    },
    {
      "cell_type": "code",
      "source": [
        "history = model.fit(train, validation_data = validation, epochs = 12, batch_size = 32, callbacks = [tensorboard, checkpoint, lr_reduction])"
      ],
      "metadata": {
        "colab": {
          "base_uri": "https://localhost:8080/"
        },
        "id": "7lQMPfUugpCO",
        "outputId": "82c5ae61-d4d2-4413-f51c-941b5609c1b6"
      },
      "execution_count": 15,
      "outputs": [
        {
          "output_type": "stream",
          "name": "stdout",
          "text": [
            "Epoch 1/12\n",
            "81/81 [==============================] - ETA: 0s - loss: 0.4108 - accuracy: 0.8441 \n",
            "Epoch 1: val_accuracy improved from -inf to 0.76842, saving model to effnet.h5\n",
            "81/81 [==============================] - 1936s 24s/step - loss: 0.4108 - accuracy: 0.8441 - val_loss: 0.7979 - val_accuracy: 0.7684 - lr: 0.0010\n",
            "Epoch 2/12\n",
            "81/81 [==============================] - ETA: 0s - loss: 0.2296 - accuracy: 0.9195\n",
            "Epoch 2: val_accuracy improved from 0.76842 to 0.78246, saving model to effnet.h5\n",
            "81/81 [==============================] - 58s 710ms/step - loss: 0.2296 - accuracy: 0.9195 - val_loss: 0.8242 - val_accuracy: 0.7825 - lr: 0.0010\n",
            "Epoch 3/12\n",
            "81/81 [==============================] - ETA: 0s - loss: 0.1609 - accuracy: 0.9366\n",
            "Epoch 3: val_accuracy did not improve from 0.78246\n",
            "81/81 [==============================] - 57s 703ms/step - loss: 0.1609 - accuracy: 0.9366 - val_loss: 0.8872 - val_accuracy: 0.7228 - lr: 0.0010\n",
            "Epoch 4/12\n",
            "81/81 [==============================] - ETA: 0s - loss: 0.1492 - accuracy: 0.9478\n",
            "Epoch 4: val_accuracy improved from 0.78246 to 0.89123, saving model to effnet.h5\n",
            "81/81 [==============================] - 57s 706ms/step - loss: 0.1492 - accuracy: 0.9478 - val_loss: 0.2991 - val_accuracy: 0.8912 - lr: 0.0010\n",
            "Epoch 5/12\n",
            "81/81 [==============================] - ETA: 0s - loss: 0.1109 - accuracy: 0.9613\n",
            "Epoch 5: val_accuracy improved from 0.89123 to 0.91930, saving model to effnet.h5\n",
            "81/81 [==============================] - 58s 711ms/step - loss: 0.1109 - accuracy: 0.9613 - val_loss: 0.2069 - val_accuracy: 0.9193 - lr: 0.0010\n",
            "Epoch 6/12\n",
            "81/81 [==============================] - ETA: 0s - loss: 0.1186 - accuracy: 0.9613\n",
            "Epoch 6: val_accuracy improved from 0.91930 to 0.94386, saving model to effnet.h5\n",
            "81/81 [==============================] - 59s 721ms/step - loss: 0.1186 - accuracy: 0.9613 - val_loss: 0.1789 - val_accuracy: 0.9439 - lr: 0.0010\n",
            "Epoch 7/12\n",
            "81/81 [==============================] - ETA: 0s - loss: 0.0869 - accuracy: 0.9694\n",
            "Epoch 7: val_accuracy did not improve from 0.94386\n",
            "81/81 [==============================] - 57s 704ms/step - loss: 0.0869 - accuracy: 0.9694 - val_loss: 0.8463 - val_accuracy: 0.7333 - lr: 0.0010\n",
            "Epoch 8/12\n",
            "81/81 [==============================] - ETA: 0s - loss: 0.0822 - accuracy: 0.9745\n",
            "Epoch 8: val_accuracy did not improve from 0.94386\n",
            "\n",
            "Epoch 8: ReduceLROnPlateau reducing learning rate to 0.0005000000237487257.\n",
            "81/81 [==============================] - 57s 702ms/step - loss: 0.0822 - accuracy: 0.9745 - val_loss: 0.3264 - val_accuracy: 0.8947 - lr: 0.0010\n",
            "Epoch 9/12\n",
            "81/81 [==============================] - ETA: 0s - loss: 0.0419 - accuracy: 0.9872\n",
            "Epoch 9: val_accuracy did not improve from 0.94386\n",
            "81/81 [==============================] - 57s 699ms/step - loss: 0.0419 - accuracy: 0.9872 - val_loss: 0.1793 - val_accuracy: 0.9404 - lr: 5.0000e-04\n",
            "Epoch 10/12\n",
            "81/81 [==============================] - ETA: 0s - loss: 0.0297 - accuracy: 0.9880\n",
            "Epoch 10: val_accuracy did not improve from 0.94386\n",
            "\n",
            "Epoch 10: ReduceLROnPlateau reducing learning rate to 0.0002500000118743628.\n",
            "81/81 [==============================] - 57s 703ms/step - loss: 0.0297 - accuracy: 0.9880 - val_loss: 0.2789 - val_accuracy: 0.9123 - lr: 5.0000e-04\n",
            "Epoch 11/12\n",
            "81/81 [==============================] - ETA: 0s - loss: 0.0330 - accuracy: 0.9892\n",
            "Epoch 11: val_accuracy did not improve from 0.94386\n",
            "81/81 [==============================] - 57s 702ms/step - loss: 0.0330 - accuracy: 0.9892 - val_loss: 0.1700 - val_accuracy: 0.9439 - lr: 2.5000e-04\n",
            "Epoch 12/12\n",
            "81/81 [==============================] - ETA: 0s - loss: 0.0241 - accuracy: 0.9930\n",
            "Epoch 12: val_accuracy improved from 0.94386 to 0.95789, saving model to effnet.h5\n",
            "81/81 [==============================] - 58s 710ms/step - loss: 0.0241 - accuracy: 0.9930 - val_loss: 0.1686 - val_accuracy: 0.9579 - lr: 2.5000e-04\n"
          ]
        }
      ]
    },
    {
      "cell_type": "code",
      "source": [
        "model.save('brain_model.h5')"
      ],
      "metadata": {
        "id": "fhMifPx1Mt6Y"
      },
      "execution_count": null,
      "outputs": []
    },
    {
      "cell_type": "code",
      "source": [
        "tc.historyPlots(history, 'accuracy')"
      ],
      "metadata": {
        "id": "rraws_ZExdfR"
      },
      "execution_count": null,
      "outputs": []
    },
    {
      "cell_type": "markdown",
      "source": [
        "## Evaluation"
      ],
      "metadata": {
        "id": "j3ZNZfuuxfQY"
      }
    },
    {
      "cell_type": "code",
      "source": [
        "tc.historyPlots(history, 'loss')"
      ],
      "metadata": {
        "id": "PcpYVL2Xxd2J"
      },
      "execution_count": null,
      "outputs": []
    },
    {
      "cell_type": "markdown",
      "source": [
        "# Predictions"
      ],
      "metadata": {
        "id": "Bh-H2ZF0xgTw"
      }
    },
    {
      "cell_type": "code",
      "source": [
        "# Retrieving the unshuffled data sets.\n",
        "train, validation, test = tc.dataGeneration(imgGen, target_size, batch_size, True)"
      ],
      "metadata": {
        "colab": {
          "base_uri": "https://localhost:8080/"
        },
        "id": "oe3oNEHYUANQ",
        "outputId": "a9d7c619-4538-4ab1-a5f1-ff76ea76cb18"
      },
      "execution_count": 44,
      "outputs": [
        {
          "output_type": "stream",
          "name": "stdout",
          "text": [
            "Found 2585 images belonging to 4 classes.\n"
          ]
        }
      ]
    },
    {
      "cell_type": "markdown",
      "source": [
        "## Training"
      ],
      "metadata": {
        "id": "EuG7g1o7y6xY"
      }
    },
    {
      "cell_type": "code",
      "source": [
        "tc.confusionMatrix(train)"
      ],
      "metadata": {
        "colab": {
          "base_uri": "https://localhost:8080/",
          "height": 296
        },
        "id": "MupAHiU1RtXV",
        "outputId": "726d928d-ffc1-4ac0-ddab-ee3645115323"
      },
      "execution_count": 47,
      "outputs": [
        {
          "output_type": "execute_result",
          "data": {
            "text/plain": [
              "<sklearn.metrics._plot.confusion_matrix.ConfusionMatrixDisplay at 0x7f8f0c2846a0>"
            ]
          },
          "metadata": {},
          "execution_count": 47
        },
        {
          "output_type": "display_data",
          "data": {
            "text/plain": [
              "<Figure size 432x288 with 2 Axes>"
            ],
            "image/png": "[encoded data removed]"
          },
          "metadata": {
            "needs_background": "light"
          }
        }
      ]
    },
    {
      "cell_type": "markdown",
      "source": [
        "## Validation"
      ],
      "metadata": {
        "id": "RryqfTe_yXA_"
      }
    },
    {
      "cell_type": "code",
      "source": [
        "tc.confusionMatrix(validation)"
      ],
      "metadata": {
        "colab": {
          "base_uri": "https://localhost:8080/",
          "height": 300
        },
        "id": "sZKs-bWsyVTP",
        "outputId": "93503738-90b1-4b0b-bde1-e8994bf14f1f"
      },
      "execution_count": 61,
      "outputs": [
        {
          "output_type": "execute_result",
          "data": {
            "text/plain": [
              "<sklearn.metrics._plot.confusion_matrix.ConfusionMatrixDisplay at 0x7f8eee204ac0>"
            ]
          },
          "metadata": {},
          "execution_count": 61
        },
        {
          "output_type": "display_data",
          "data": {
            "text/plain": [
              "<Figure size 432x288 with 2 Axes>"
            ],
            "image/png": "[encoded data removed]"
          },
          "metadata": {
            "needs_background": "light"
          }
        }
      ]
    },
    {
      "cell_type": "markdown",
      "source": [
        "## Entire Test Set."
      ],
      "metadata": {
        "id": "elSzY9aX8WE9"
      }
    },
    {
      "cell_type": "code",
      "source": [
        "tc.confusionMatrix(test)"
      ],
      "metadata": {
        "colab": {
          "base_uri": "https://localhost:8080/",
          "height": 296
        },
        "id": "mWvz3Bsv8rmE",
        "outputId": "5b0fc3cd-397c-4458-cf54-2ee4bc8895d1"
      },
      "execution_count": 76,
      "outputs": [
        {
          "output_type": "execute_result",
          "data": {
            "text/plain": [
              "<sklearn.metrics._plot.confusion_matrix.ConfusionMatrixDisplay at 0x7f8e90160460>"
            ]
          },
          "metadata": {},
          "execution_count": 76
        },
        {
          "output_type": "display_data",
          "data": {
            "text/plain": [
              "<Figure size 432x288 with 2 Axes>"
            ],
            "image/png": "[encoded data removed]"
          },
          "metadata": {
            "needs_background": "light"
          }
        }
      ]
    }
  ]
}