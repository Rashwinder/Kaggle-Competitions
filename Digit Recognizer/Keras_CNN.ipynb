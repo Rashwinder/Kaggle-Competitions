{
  "nbformat": 4,
  "nbformat_minor": 0,
  "metadata": {
    "colab": {
      "provenance": []
    },
    "kernelspec": {
      "name": "python3",
      "display_name": "Python 3"
    },
    "language_info": {
      "name": "python"
    },
    "gpuClass": "standard",
    "accelerator": "GPU"
  },
  "cells": [
    {
      "cell_type": "markdown",
      "source": [
        "# Libraries."
      ],
      "metadata": {
        "id": "lIOycrwUJIlB"
      }
    },
    {
      "cell_type": "code",
      "source": [
        "import pandas as pd\n",
        "import numpy as np\n",
        "\n",
        "import tensorflow as tf\n",
        "import keras\n",
        "from keras import Sequential\n",
        "from keras.layers import Activation, BatchNormalization, Conv2D, Dense, Dropout, Flatten, Input, MaxPooling2D\n",
        "from keras.utils.np_utils import to_categorical\n",
        "from keras.callbacks import ReduceLROnPlateau\n",
        "\n",
        "from sklearn.metrics import accuracy_score\n",
        "import matplotlib.pyplot as plt\n",
        "import seaborn as sns\n",
        "\n",
        "train = pd.read_csv('/content/drive/MyDrive/Kaggle Competitions/Digit Recognizer/train.csv')\n",
        "test = pd.read_csv('/content/drive/MyDrive/Kaggle Competitions/Digit Recognizer/test.csv')"
      ],
      "metadata": {
        "id": "IFa05nf9LHRX"
      },
      "execution_count": 1,
      "outputs": []
    },
    {
      "cell_type": "markdown",
      "source": [
        "# Data Preparation"
      ],
      "metadata": {
        "id": "oruhPwGPyGYn"
      }
    },
    {
      "cell_type": "code",
      "source": [
        "from sklearn.model_selection import train_test_split\n",
        "X = train.drop(['label'], axis = 1)\n",
        "Y = to_categorical(train['label'])\n",
        "\n",
        "# Train/Test split.\n",
        "train_X, test_X, train_y, test_y = train_test_split(X, Y, stratify = Y, test_size = 0.1)\n",
        "\n",
        "# Train/Val split.\n",
        "train_X, val_X, train_y, val_y = train_test_split(train_X, train_y, test_size = 0.1)\n",
        "print(train_X.shape, train_y.shape, val_X.shape, val_y.shape, test_X.shape, test_y.shape)\n",
        "\n",
        "\n",
        "train_X = train_X.values.reshape(-1, 28, 28, 1)/255\n",
        "val_X = val_X.values.reshape(-1, 28, 28, 1)/255\n",
        "test_X = test_X.values.reshape(-1, 28, 28, 1)/255\n",
        "reshaped_test = test.values.reshape(-1, 28, 28, 1)/255"
      ],
      "metadata": {
        "colab": {
          "base_uri": "https://localhost:8080/"
        },
        "id": "X2Jg9I5wABWU",
        "outputId": "fd121571-7385-4fc3-fe3d-1339ae553fc8"
      },
      "execution_count": 2,
      "outputs": [
        {
          "output_type": "stream",
          "name": "stdout",
          "text": [
            "(34020, 784) (34020, 10) (3780, 784) (3780, 10) (4200, 784) (4200, 10)\n"
          ]
        }
      ]
    },
    {
      "cell_type": "code",
      "source": [
        "import seaborn as sns\n",
        "plt.rcParams['figure.figsize'] = (10, 5)\n",
        "sns.countplot(x = train['label'])"
      ],
      "metadata": {
        "colab": {
          "base_uri": "https://localhost:8080/",
          "height": 351
        },
        "id": "l5hsB49Sop-J",
        "outputId": "0f943c4a-82cd-4585-c710-dd8246f94a5a"
      },
      "execution_count": 3,
      "outputs": [
        {
          "output_type": "execute_result",
          "data": {
            "text/plain": [
              "<matplotlib.axes._subplots.AxesSubplot at 0x7efd146d3210>"
            ]
          },
          "metadata": {},
          "execution_count": 3
        },
        {
          "output_type": "display_data",
          "data": {
            "text/plain": [
              "<Figure size 720x360 with 1 Axes>"
            ],
            "image/png": "[encoded data removed]"
          },
          "metadata": {
            "needs_background": "light"
          }
        }
      ]
    },
    {
      "cell_type": "markdown",
      "source": [
        "# Keras CNN."
      ],
      "metadata": {
        "id": "OSKJ-l8AitFR"
      }
    },
    {
      "cell_type": "code",
      "source": [
        "model = Sequential()\n",
        "\n",
        "# First Convolution Layer.\n",
        "model.add(Conv2D(filters = 512, kernel_size = (3, 3), padding = 'same', input_shape = (28, 28, 1)))\n",
        "model.add(Activation('relu'))\n",
        "model.add(BatchNormalization())\n",
        "model.add(keras.layers.MaxPooling2D((2, 2)))\n",
        "model.add(Dropout(0.25))\n",
        "\n",
        "# Second Convolution Layer.\n",
        "model.add(Conv2D(filters = 32, kernel_size = (3, 3), padding = 'same', input_shape = (28, 28, 1)))\n",
        "model.add(Activation('relu'))\n",
        "model.add(BatchNormalization())\n",
        "model.add(keras.layers.MaxPooling2D((2, 2)))\n",
        "model.add(Dropout(0.25))\n",
        "\n",
        "# Third Convolution Layer.\n",
        "model.add(Conv2D(filters = 64, kernel_size = (3, 3), padding = 'same', input_shape = (28, 28, 1)))\n",
        "model.add(Activation('relu'))\n",
        "model.add(BatchNormalization())\n",
        "model.add(keras.layers.MaxPooling2D((2, 2)))\n",
        "model.add(Dropout(0.25))\n",
        "\n",
        "# Reduces the 3D feature maps down to a 1D vector.\n",
        "model.add(Flatten())\n",
        "\n",
        "# Output\n",
        "model.add(Dense(128, activation = 'relu'))\n",
        "model.add(Dropout(0.15))\n",
        "model.add(Dense(10, activation = 'softmax'))\n",
        "\n",
        "model.compile(optimizer = keras.optimizers.RMSprop(learning_rate = 5e-3),\n",
        "               loss = 'categorical_crossentropy',\n",
        "               metrics = ['accuracy'])"
      ],
      "metadata": {
        "id": "Y9bCD0E_fp-f"
      },
      "execution_count": 4,
      "outputs": []
    },
    {
      "cell_type": "code",
      "source": [
        "lr_reduction = ReduceLROnPlateau(monitor = 'val_accuracy',\n",
        "                                 patience = 3,\n",
        "                                 factor = 0.5,\n",
        "                                 min_lr = 1e-5)\n",
        "\n",
        "history = model.fit(train_X, train_y, validation_data=[val_X, val_y],\n",
        "                    epochs = 30,\n",
        "                    batch_size = 64,\n",
        "                    callbacks = [lr_reduction])"
      ],
      "metadata": {
        "colab": {
          "base_uri": "https://localhost:8080/"
        },
        "id": "ZUegIGabgBCn",
        "outputId": "a339bb09-8bab-45e0-d693-7f19412205ba"
      },
      "execution_count": 6,
      "outputs": [
        {
          "output_type": "stream",
          "name": "stdout",
          "text": [
            "Epoch 1/30\n",
            "532/532 [==============================] - 16s 22ms/step - loss: 0.3731 - accuracy: 0.9126 - val_loss: 0.0806 - val_accuracy: 0.9772 - lr: 0.0050\n",
            "Epoch 2/30\n",
            "532/532 [==============================] - 11s 21ms/step - loss: 0.1292 - accuracy: 0.9659 - val_loss: 0.1144 - val_accuracy: 0.9677 - lr: 0.0050\n",
            "Epoch 3/30\n",
            "532/532 [==============================] - 11s 21ms/step - loss: 0.1009 - accuracy: 0.9749 - val_loss: 0.0638 - val_accuracy: 0.9828 - lr: 0.0050\n",
            "Epoch 4/30\n",
            "532/532 [==============================] - 11s 21ms/step - loss: 0.0791 - accuracy: 0.9788 - val_loss: 0.0492 - val_accuracy: 0.9860 - lr: 0.0050\n",
            "Epoch 5/30\n",
            "532/532 [==============================] - 11s 21ms/step - loss: 0.0708 - accuracy: 0.9797 - val_loss: 0.0493 - val_accuracy: 0.9868 - lr: 0.0050\n",
            "Epoch 6/30\n",
            "532/532 [==============================] - 11s 21ms/step - loss: 0.0620 - accuracy: 0.9823 - val_loss: 0.0457 - val_accuracy: 0.9886 - lr: 0.0050\n",
            "Epoch 7/30\n",
            "532/532 [==============================] - 11s 21ms/step - loss: 0.0569 - accuracy: 0.9846 - val_loss: 0.0408 - val_accuracy: 0.9884 - lr: 0.0050\n",
            "Epoch 8/30\n",
            "532/532 [==============================] - 12s 22ms/step - loss: 0.0541 - accuracy: 0.9854 - val_loss: 0.0483 - val_accuracy: 0.9902 - lr: 0.0050\n",
            "Epoch 9/30\n",
            "532/532 [==============================] - 11s 21ms/step - loss: 0.0517 - accuracy: 0.9858 - val_loss: 0.0425 - val_accuracy: 0.9894 - lr: 0.0050\n",
            "Epoch 10/30\n",
            "532/532 [==============================] - 11s 21ms/step - loss: 0.0477 - accuracy: 0.9876 - val_loss: 0.0554 - val_accuracy: 0.9862 - lr: 0.0050\n",
            "Epoch 11/30\n",
            "532/532 [==============================] - 11s 21ms/step - loss: 0.0523 - accuracy: 0.9861 - val_loss: 0.0369 - val_accuracy: 0.9902 - lr: 0.0050\n",
            "Epoch 12/30\n",
            "532/532 [==============================] - 12s 22ms/step - loss: 0.0320 - accuracy: 0.9916 - val_loss: 0.0440 - val_accuracy: 0.9897 - lr: 0.0025\n",
            "Epoch 13/30\n",
            "532/532 [==============================] - 11s 21ms/step - loss: 0.0285 - accuracy: 0.9920 - val_loss: 0.0333 - val_accuracy: 0.9902 - lr: 0.0025\n",
            "Epoch 14/30\n",
            "532/532 [==============================] - 11s 21ms/step - loss: 0.0288 - accuracy: 0.9917 - val_loss: 0.0396 - val_accuracy: 0.9902 - lr: 0.0025\n",
            "Epoch 15/30\n",
            "532/532 [==============================] - 11s 21ms/step - loss: 0.0203 - accuracy: 0.9941 - val_loss: 0.0326 - val_accuracy: 0.9899 - lr: 0.0012\n",
            "Epoch 16/30\n",
            "532/532 [==============================] - 11s 21ms/step - loss: 0.0178 - accuracy: 0.9950 - val_loss: 0.0313 - val_accuracy: 0.9910 - lr: 0.0012\n",
            "Epoch 17/30\n",
            "532/532 [==============================] - 11s 21ms/step - loss: 0.0190 - accuracy: 0.9944 - val_loss: 0.0254 - val_accuracy: 0.9921 - lr: 0.0012\n",
            "Epoch 18/30\n",
            "532/532 [==============================] - 11s 21ms/step - loss: 0.0168 - accuracy: 0.9947 - val_loss: 0.0306 - val_accuracy: 0.9923 - lr: 0.0012\n",
            "Epoch 19/30\n",
            "532/532 [==============================] - 11s 21ms/step - loss: 0.0186 - accuracy: 0.9946 - val_loss: 0.0305 - val_accuracy: 0.9918 - lr: 0.0012\n",
            "Epoch 20/30\n",
            "532/532 [==============================] - 11s 21ms/step - loss: 0.0160 - accuracy: 0.9949 - val_loss: 0.0358 - val_accuracy: 0.9918 - lr: 0.0012\n",
            "Epoch 21/30\n",
            "532/532 [==============================] - 11s 21ms/step - loss: 0.0163 - accuracy: 0.9950 - val_loss: 0.0304 - val_accuracy: 0.9913 - lr: 0.0012\n",
            "Epoch 22/30\n",
            "532/532 [==============================] - 11s 21ms/step - loss: 0.0130 - accuracy: 0.9960 - val_loss: 0.0296 - val_accuracy: 0.9915 - lr: 6.2500e-04\n",
            "Epoch 23/30\n",
            "532/532 [==============================] - 11s 21ms/step - loss: 0.0136 - accuracy: 0.9960 - val_loss: 0.0284 - val_accuracy: 0.9926 - lr: 6.2500e-04\n",
            "Epoch 24/30\n",
            "532/532 [==============================] - 11s 21ms/step - loss: 0.0129 - accuracy: 0.9958 - val_loss: 0.0290 - val_accuracy: 0.9937 - lr: 6.2500e-04\n",
            "Epoch 25/30\n",
            "532/532 [==============================] - 11s 21ms/step - loss: 0.0128 - accuracy: 0.9960 - val_loss: 0.0266 - val_accuracy: 0.9929 - lr: 6.2500e-04\n",
            "Epoch 26/30\n",
            "532/532 [==============================] - 11s 21ms/step - loss: 0.0106 - accuracy: 0.9966 - val_loss: 0.0310 - val_accuracy: 0.9929 - lr: 6.2500e-04\n",
            "Epoch 27/30\n",
            "532/532 [==============================] - 11s 21ms/step - loss: 0.0115 - accuracy: 0.9966 - val_loss: 0.0284 - val_accuracy: 0.9926 - lr: 6.2500e-04\n",
            "Epoch 28/30\n",
            "532/532 [==============================] - 11s 21ms/step - loss: 0.0106 - accuracy: 0.9964 - val_loss: 0.0269 - val_accuracy: 0.9934 - lr: 3.1250e-04\n",
            "Epoch 29/30\n",
            "532/532 [==============================] - 11s 21ms/step - loss: 0.0099 - accuracy: 0.9969 - val_loss: 0.0287 - val_accuracy: 0.9937 - lr: 3.1250e-04\n",
            "Epoch 30/30\n",
            "532/532 [==============================] - 11s 21ms/step - loss: 0.0094 - accuracy: 0.9968 - val_loss: 0.0267 - val_accuracy: 0.9931 - lr: 3.1250e-04\n"
          ]
        }
      ]
    },
    {
      "cell_type": "code",
      "source": [
        "plt.plot(history.history['loss'])\n",
        "plt.plot(history.history['val_loss'])"
      ],
      "metadata": {
        "colab": {
          "base_uri": "https://localhost:8080/",
          "height": 337
        },
        "id": "KtsKOhQgLCfE",
        "outputId": "17b94366-e6f9-42d5-e704-942f914d3422"
      },
      "execution_count": 12,
      "outputs": [
        {
          "output_type": "execute_result",
          "data": {
            "text/plain": [
              "[<matplotlib.lines.Line2D at 0x7efcad6af350>]"
            ]
          },
          "metadata": {},
          "execution_count": 12
        },
        {
          "output_type": "display_data",
          "data": {
            "text/plain": [
              "<Figure size 720x360 with 1 Axes>"
            ],
            "image/png": "[encoded data removed]"
          },
          "metadata": {
            "needs_background": "light"
          }
        }
      ]
    },
    {
      "cell_type": "code",
      "source": [
        "plt.plot(history.history['accuracy'])\n",
        "plt.plot(history.history['val_accuracy'])"
      ],
      "metadata": {
        "colab": {
          "base_uri": "https://localhost:8080/",
          "height": 337
        },
        "id": "bWja8azwcff2",
        "outputId": "c1375a2f-b3f3-4c8c-c307-f767fe7f031b"
      },
      "execution_count": 13,
      "outputs": [
        {
          "output_type": "execute_result",
          "data": {
            "text/plain": [
              "[<matplotlib.lines.Line2D at 0x7efcad4ed150>]"
            ]
          },
          "metadata": {},
          "execution_count": 13
        },
        {
          "output_type": "display_data",
          "data": {
            "text/plain": [
              "<Figure size 720x360 with 1 Axes>"
            ],
            "image/png": "[encoded data removed]"
          },
          "metadata": {
            "needs_background": "light"
          }
        }
      ]
    },
    {
      "cell_type": "code",
      "source": [
        "test_pred = model.predict(test_X)\n",
        "classes = np.argmax(test_pred, axis = 1)\n",
        "accuracy_score(y_true = np.argmax(test_y, axis = 1), y_pred = classes)"
      ],
      "metadata": {
        "colab": {
          "base_uri": "https://localhost:8080/"
        },
        "id": "XZnAc99yWplC",
        "outputId": "5b6a83c9-5313-49e5-c408-508b03ca379e"
      },
      "execution_count": 9,
      "outputs": [
        {
          "output_type": "stream",
          "name": "stdout",
          "text": [
            "132/132 [==============================] - 1s 4ms/step\n"
          ]
        },
        {
          "output_type": "execute_result",
          "data": {
            "text/plain": [
              "0.9923809523809524"
            ]
          },
          "metadata": {},
          "execution_count": 9
        }
      ]
    },
    {
      "cell_type": "code",
      "source": [
        "preds = model.predict(val_X)\n",
        "preds = np.argmax(preds,axis = 1)"
      ],
      "metadata": {
        "colab": {
          "base_uri": "https://localhost:8080/"
        },
        "id": "A0TczdQ7jjj2",
        "outputId": "85323dec-f4c0-4a62-bb9b-f9f5a224e825"
      },
      "execution_count": 10,
      "outputs": [
        {
          "output_type": "stream",
          "name": "stdout",
          "text": [
            "119/119 [==============================] - 0s 4ms/step\n"
          ]
        }
      ]
    },
    {
      "cell_type": "code",
      "source": [
        "ind = np.random.randint(0,len(val_X))\n",
        "print(preds[ind])\n",
        "plt.imshow(val_X[ind].squeeze())"
      ],
      "metadata": {
        "colab": {
          "base_uri": "https://localhost:8080/",
          "height": 355
        },
        "id": "pIg-xGq1liXF",
        "outputId": "ba7863e5-b1ff-48d0-dcf5-4217573b7f51"
      },
      "execution_count": 11,
      "outputs": [
        {
          "output_type": "stream",
          "name": "stdout",
          "text": [
            "0\n"
          ]
        },
        {
          "output_type": "execute_result",
          "data": {
            "text/plain": [
              "<matplotlib.image.AxesImage at 0x7efcad547690>"
            ]
          },
          "metadata": {},
          "execution_count": 11
        },
        {
          "output_type": "display_data",
          "data": {
            "text/plain": [
              "<Figure size 720x360 with 1 Axes>"
            ],
            "image/png": "[encoded data removed]"
          },
          "metadata": {
            "needs_background": "light"
          }
        }
      ]
    },
    {
      "cell_type": "markdown",
      "source": [
        "# Predictions."
      ],
      "metadata": {
        "id": "fwhn6rJqX1E6"
      }
    },
    {
      "cell_type": "code",
      "source": [
        "pred = model.predict(reshaped_test)\n",
        "classes = np.argmax(pred, axis = 1)"
      ],
      "metadata": {
        "colab": {
          "base_uri": "https://localhost:8080/"
        },
        "id": "2-XUv9wrnYuZ",
        "outputId": "a0e41daf-7369-435d-82bb-ac3d329d51c4"
      },
      "execution_count": 14,
      "outputs": [
        {
          "output_type": "stream",
          "name": "stdout",
          "text": [
            "875/875 [==============================] - 3s 4ms/step\n"
          ]
        }
      ]
    },
    {
      "cell_type": "code",
      "source": [
        "classes"
      ],
      "metadata": {
        "colab": {
          "base_uri": "https://localhost:8080/"
        },
        "id": "ReE_j7UrnmnI",
        "outputId": "4e1ffe91-af9b-48b5-cd7b-a83816df37fc"
      },
      "execution_count": 15,
      "outputs": [
        {
          "output_type": "execute_result",
          "data": {
            "text/plain": [
              "array([2, 0, 9, ..., 3, 9, 2])"
            ]
          },
          "metadata": {},
          "execution_count": 15
        }
      ]
    },
    {
      "cell_type": "code",
      "source": [
        "submission = pd.read_csv('/content/drive/MyDrive/Kaggle Competitions/Digit Recognizer/sample_submission.csv')"
      ],
      "metadata": {
        "id": "Uj2p_dPCnvxA"
      },
      "execution_count": 16,
      "outputs": []
    },
    {
      "cell_type": "code",
      "source": [
        "submission['Label'] = classes\n",
        "submission.to_csv('/content/drive/MyDrive/Kaggle Competitions/Digit Recognizer/Submission.csv', index = False)"
      ],
      "metadata": {
        "id": "bTx6q4Svn2UY"
      },
      "execution_count": 17,
      "outputs": []
    }
  ]
}